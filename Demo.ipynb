{
 "cells": [
  {
   "cell_type": "markdown",
   "id": "f1b40519-e0ec-453d-9f71-327fa01862b3",
   "metadata": {},
   "source": [
    "# Sample Pandas Notebook"
   ]
  },
  {
   "cell_type": "code",
   "execution_count": 1,
   "id": "cdcc14a1-99b2-4add-9352-677351c34d2c",
   "metadata": {},
   "outputs": [],
   "source": [
    "import pandas as pd\n",
    "import numpy as np\n",
    "import matplotlib.pyplot as plt"
   ]
  },
  {
   "cell_type": "code",
   "execution_count": 2,
   "id": "fbb04394-e8a0-4258-8a65-f4258f97bac6",
   "metadata": {},
   "outputs": [],
   "source": [
    "contents = pd.read_csv('20240622130634_0088.csv')"
   ]
  },
  {
   "cell_type": "code",
   "execution_count": 3,
   "id": "1f655edc-8afc-403e-a971-a620ca5847fb",
   "metadata": {},
   "outputs": [
    {
     "data": {
      "text/html": [
       "<div>\n",
       "<style scoped>\n",
       "    .dataframe tbody tr th:only-of-type {\n",
       "        vertical-align: middle;\n",
       "    }\n",
       "\n",
       "    .dataframe tbody tr th {\n",
       "        vertical-align: top;\n",
       "    }\n",
       "\n",
       "    .dataframe thead th {\n",
       "        text-align: right;\n",
       "    }\n",
       "</style>\n",
       "<table border=\"1\" class=\"dataframe\">\n",
       "  <thead>\n",
       "    <tr style=\"text-align: right;\">\n",
       "      <th></th>\n",
       "      <th>First Name</th>\n",
       "      <th>Last Name</th>\n",
       "      <th>Age</th>\n",
       "      <th>Experience (Years)</th>\n",
       "    </tr>\n",
       "  </thead>\n",
       "  <tbody>\n",
       "    <tr>\n",
       "      <th>0</th>\n",
       "      <td>Tess</td>\n",
       "      <td>Hall</td>\n",
       "      <td>22</td>\n",
       "      <td>1</td>\n",
       "    </tr>\n",
       "    <tr>\n",
       "      <th>1</th>\n",
       "      <td>Miley</td>\n",
       "      <td>Reed</td>\n",
       "      <td>21</td>\n",
       "      <td>4</td>\n",
       "    </tr>\n",
       "    <tr>\n",
       "      <th>2</th>\n",
       "      <td>Aiden</td>\n",
       "      <td>Grant</td>\n",
       "      <td>18</td>\n",
       "      <td>7</td>\n",
       "    </tr>\n",
       "    <tr>\n",
       "      <th>3</th>\n",
       "      <td>Amber</td>\n",
       "      <td>Hamilton</td>\n",
       "      <td>21</td>\n",
       "      <td>4</td>\n",
       "    </tr>\n",
       "    <tr>\n",
       "      <th>4</th>\n",
       "      <td>Lucas</td>\n",
       "      <td>Riley</td>\n",
       "      <td>30</td>\n",
       "      <td>1</td>\n",
       "    </tr>\n",
       "    <tr>\n",
       "      <th>...</th>\n",
       "      <td>...</td>\n",
       "      <td>...</td>\n",
       "      <td>...</td>\n",
       "      <td>...</td>\n",
       "    </tr>\n",
       "    <tr>\n",
       "      <th>95</th>\n",
       "      <td>Nicholas</td>\n",
       "      <td>Evans</td>\n",
       "      <td>20</td>\n",
       "      <td>5</td>\n",
       "    </tr>\n",
       "    <tr>\n",
       "      <th>96</th>\n",
       "      <td>Jack</td>\n",
       "      <td>Lloyd</td>\n",
       "      <td>24</td>\n",
       "      <td>0</td>\n",
       "    </tr>\n",
       "    <tr>\n",
       "      <th>97</th>\n",
       "      <td>Chloe</td>\n",
       "      <td>Cunningham</td>\n",
       "      <td>18</td>\n",
       "      <td>1</td>\n",
       "    </tr>\n",
       "    <tr>\n",
       "      <th>98</th>\n",
       "      <td>Eleanor</td>\n",
       "      <td>Phillips</td>\n",
       "      <td>23</td>\n",
       "      <td>11</td>\n",
       "    </tr>\n",
       "    <tr>\n",
       "      <th>99</th>\n",
       "      <td>Vivian</td>\n",
       "      <td>Reed</td>\n",
       "      <td>27</td>\n",
       "      <td>1</td>\n",
       "    </tr>\n",
       "  </tbody>\n",
       "</table>\n",
       "<p>100 rows × 4 columns</p>\n",
       "</div>"
      ],
      "text/plain": [
       "   First Name   Last Name  Age  Experience (Years)\n",
       "0        Tess        Hall   22                   1\n",
       "1       Miley        Reed   21                   4\n",
       "2       Aiden       Grant   18                   7\n",
       "3       Amber    Hamilton   21                   4\n",
       "4       Lucas       Riley   30                   1\n",
       "..        ...         ...  ...                 ...\n",
       "95   Nicholas       Evans   20                   5\n",
       "96       Jack       Lloyd   24                   0\n",
       "97      Chloe  Cunningham   18                   1\n",
       "98    Eleanor    Phillips   23                  11\n",
       "99     Vivian        Reed   27                   1\n",
       "\n",
       "[100 rows x 4 columns]"
      ]
     },
     "execution_count": 3,
     "metadata": {},
     "output_type": "execute_result"
    }
   ],
   "source": [
    "contents"
   ]
  },
  {
   "cell_type": "code",
   "execution_count": 4,
   "id": "76355c04-5972-45f0-bcd2-61f9c7f48ba0",
   "metadata": {},
   "outputs": [
    {
     "data": {
      "text/plain": [
       "20"
      ]
     },
     "execution_count": 4,
     "metadata": {},
     "output_type": "execute_result"
    }
   ],
   "source": [
    "contents.loc[95].Age"
   ]
  },
  {
   "cell_type": "code",
   "execution_count": 5,
   "id": "d6f3cab5-0614-4bcf-a5ee-4d740dfa2a92",
   "metadata": {},
   "outputs": [],
   "source": [
    "def name(index):\n",
    "    return f'{contents.loc[index][\"Last Name\"]}, {contents.loc[index][\"First Name\"]}'"
   ]
  },
  {
   "cell_type": "code",
   "execution_count": 6,
   "id": "1e420cfe-45a2-4b2a-b06b-3352694c0b25",
   "metadata": {},
   "outputs": [
    {
     "data": {
      "text/plain": [
       "'Grant, Aiden'"
      ]
     },
     "execution_count": 6,
     "metadata": {},
     "output_type": "execute_result"
    }
   ],
   "source": [
    "name(2)"
   ]
  },
  {
   "cell_type": "markdown",
   "id": "eb7a9c65-bf94-47df-a90e-6479d64f9a9c",
   "metadata": {},
   "source": [
    "## Using Matplotlib"
   ]
  },
  {
   "cell_type": "code",
   "execution_count": 9,
   "id": "77a489f4-cc3b-4782-8757-5f9353fd9712",
   "metadata": {},
   "outputs": [
    {
     "data": {
      "image/png": "[encoded data removed]",
      "text/plain": [
       "<Figure size 800x600 with 1 Axes>"
      ]
     },
     "metadata": {},
     "output_type": "display_data"
    }
   ],
   "source": [
    "plt.figure(figsize=(8, 6))  # Adjust figure size as desired\n",
    "contents['Age'].hist()\n",
    "\n",
    "# Customize the plot (optional)\n",
    "plt.xlabel('Age')\n",
    "plt.ylabel('Frequency')\n",
    "plt.title(f'Histogram of Age')\n",
    "plt.grid(True)\n",
    "\n",
    "# Display the histogram\n",
    "plt.show()"
   ]
  },
  {
   "cell_type": "code",
   "execution_count": 7,
   "id": "7335c89f-fbfa-4b54-bb2e-e4318b51c7c8",
   "metadata": {},
   "outputs": [
    {
     "data": {
      "text/html": [
       "<div>\n",
       "<style scoped>\n",
       "    .dataframe tbody tr th:only-of-type {\n",
       "        vertical-align: middle;\n",
       "    }\n",
       "\n",
       "    .dataframe tbody tr th {\n",
       "        vertical-align: top;\n",
       "    }\n",
       "\n",
       "    .dataframe thead th {\n",
       "        text-align: right;\n",
       "    }\n",
       "</style>\n",
       "<table border=\"1\" class=\"dataframe\">\n",
       "  <thead>\n",
       "    <tr style=\"text-align: right;\">\n",
       "      <th></th>\n",
       "      <th>First Name</th>\n",
       "      <th>Last Name</th>\n",
       "      <th>Age</th>\n",
       "      <th>Experience (Years)</th>\n",
       "    </tr>\n",
       "  </thead>\n",
       "  <tbody>\n",
       "    <tr>\n",
       "      <th>43</th>\n",
       "      <td>Fenton</td>\n",
       "      <td>Nelson</td>\n",
       "      <td>30</td>\n",
       "      <td>14</td>\n",
       "    </tr>\n",
       "    <tr>\n",
       "      <th>44</th>\n",
       "      <td>Byron</td>\n",
       "      <td>Scott</td>\n",
       "      <td>28</td>\n",
       "      <td>13</td>\n",
       "    </tr>\n",
       "    <tr>\n",
       "      <th>56</th>\n",
       "      <td>Sabrina</td>\n",
       "      <td>Thomas</td>\n",
       "      <td>30</td>\n",
       "      <td>13</td>\n",
       "    </tr>\n",
       "    <tr>\n",
       "      <th>89</th>\n",
       "      <td>Ryan</td>\n",
       "      <td>Carter</td>\n",
       "      <td>30</td>\n",
       "      <td>13</td>\n",
       "    </tr>\n",
       "  </tbody>\n",
       "</table>\n",
       "</div>"
      ],
      "text/plain": [
       "   First Name Last Name  Age  Experience (Years)\n",
       "43     Fenton    Nelson   30                  14\n",
       "44      Byron     Scott   28                  13\n",
       "56    Sabrina    Thomas   30                  13\n",
       "89       Ryan    Carter   30                  13"
      ]
     },
     "execution_count": 7,
     "metadata": {},
     "output_type": "execute_result"
    }
   ],
   "source": [
    "contents[contents['Experience (Years)'] > 12]"
   ]
  },
  {
   "cell_type": "markdown",
   "id": "5ee30abd-76b0-4371-bdc7-660ab62e9942",
   "metadata": {},
   "source": [
    "## Interactivity Within Notebooks"
   ]
  },
  {
   "cell_type": "code",
   "execution_count": 8,
   "id": "438e437f-d734-4ce8-8535-4513cc8961cf",
   "metadata": {},
   "outputs": [],
   "source": [
    "import ipywidgets as widgets\n",
    "from ipywidgets import interact, interact_manual"
   ]
  },
  {
   "cell_type": "code",
   "execution_count": 9,
   "id": "9af2f6aa-9914-4268-9c4b-230da9b91410",
   "metadata": {},
   "outputs": [
    {
     "data": {
      "application/vnd.jupyter.widget-view+json": {
       "model_id": "f53b0a0d4caa4cc8be9d83066313f493",
       "version_major": 2,
       "version_minor": 0
      },
      "text/plain": [
       "interactive(children=(Dropdown(description='column', options=('Age', 'Experience (Years)'), value='Age'), IntS…"
      ]
     },
     "metadata": {},
     "output_type": "display_data"
    }
   ],
   "source": [
    "@interact\n",
    "def wexp_more_than(column=contents.columns[2:], x=(0,50)):\n",
    "    return contents[contents[column] > x]"
   ]
  },
  {
   "cell_type": "markdown",
   "id": "a2d9c622-f6e5-4dab-a2ca-f0fe8c721d38",
   "metadata": {},
   "source": [
    "## ROOT within Python"
   ]
  },
  {
   "cell_type": "code",
   "execution_count": 10,
   "id": "54ce764b-7371-4405-9f4d-590dfe46372c",
   "metadata": {},
   "outputs": [
    {
     "name": "stdout",
     "output_type": "stream",
     "text": [
      "Welcome to JupyROOT 6.30/04\n"
     ]
    }
   ],
   "source": [
    "import ROOT"
   ]
  },
  {
   "cell_type": "code",
   "execution_count": 11,
   "id": "396d1585-bd28-4d27-85f9-dfd72c86c251",
   "metadata": {},
   "outputs": [
    {
     "data": {
      "image/png": "[encoded data removed]",
      "text/plain": [
       "<IPython.core.display.Image object>"
      ]
     },
     "metadata": {},
     "output_type": "display_data"
    }
   ],
   "source": [
    "%jsroot off\n",
    "c = ROOT.TCanvas()\n",
    "f1 = ROOT.TF1(\"func1\", \"sin(x)\", 0, 10)\n",
    "f1.Draw()\n",
    "c.Draw() # Necessary to make the graphics show!"
   ]
  },
  {
   "cell_type": "markdown",
   "id": "92155cb2-eecf-4d7d-b42b-9ffa23c271e8",
   "metadata": {},
   "source": [
    "## C++ within Python with ROOT/Cling"
   ]
  },
  {
   "cell_type": "code",
   "execution_count": 12,
   "id": "1fbc50d9-8331-4611-b835-aaeea7a15db0",
   "metadata": {},
   "outputs": [
    {
     "name": "stdout",
     "output_type": "stream",
     "text": [
      "The value of A instance is 124.\n"
     ]
    }
   ],
   "source": [
    "ROOT.gInterpreter.ProcessLine('#include \"c2pyexample.h\"')\n",
    "a = ROOT.A(124)\n",
    "ROOT.printA(a)"
   ]
  },
  {
   "cell_type": "code",
   "execution_count": null,
   "id": "0a2af696-0e23-4a1f-b45e-6e602e95bc51",
   "metadata": {},
   "outputs": [],
   "source": []
  }
 ],
 "metadata": {
  "kernelspec": {
   "display_name": "Python 3 (ipykernel)",
   "language": "python",
   "name": "python3"
  },
  "language_info": {
   "codemirror_mode": {
    "name": "ipython",
    "version": 3
   },
   "file_extension": ".py",
   "mimetype": "text/x-python",
   "name": "python",
   "nbconvert_exporter": "python",
   "pygments_lexer": "ipython3",
   "version": "3.10.12"
  }
 },
 "nbformat": 4,
 "nbformat_minor": 5
}
